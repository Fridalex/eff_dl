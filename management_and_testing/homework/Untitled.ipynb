{
 "cells": [
  {
   "cell_type": "code",
   "execution_count": 1,
   "id": "2613c107-7807-4f3f-9632-755b333c343e",
   "metadata": {
    "execution": {
     "iopub.execute_input": "2025-02-26T17:18:05.668525Z",
     "iopub.status.busy": "2025-02-26T17:18:05.667186Z",
     "iopub.status.idle": "2025-02-26T17:18:09.828911Z",
     "shell.execute_reply": "2025-02-26T17:18:09.827911Z",
     "shell.execute_reply.started": "2025-02-26T17:18:05.668449Z"
    }
   },
   "outputs": [],
   "source": [
    "import torch"
   ]
  },
  {
   "cell_type": "code",
   "execution_count": 6,
   "id": "3762bdb9-8fcc-48de-b707-0f776e4e3001",
   "metadata": {
    "execution": {
     "iopub.execute_input": "2025-02-26T17:20:04.981011Z",
     "iopub.status.busy": "2025-02-26T17:20:04.979796Z",
     "iopub.status.idle": "2025-02-26T17:20:09.279469Z",
     "shell.execute_reply": "2025-02-26T17:20:09.278655Z",
     "shell.execute_reply.started": "2025-02-26T17:20:04.980967Z"
    },
    "tags": []
   },
   "outputs": [],
   "source": [
    "from torch.optim.lr_scheduler import CosineAnnealingLR\n",
    "from modeling.diffusion import DiffusionModel\n",
    "from modeling.unet import UnetModel\n",
    "\n",
    "net = UnetModel(3, 3, hidden_size=128)\n",
    "ddpm = DiffusionModel(eps_model=net, betas=(1e-4, 0.02), num_timesteps=20)\n",
    "\n",
    "optim = torch.optim.Adam(ddpm.parameters(), lr=1)\n",
    "my_lr_scheduler = CosineAnnealingLR(optim, 1000)"
   ]
  },
  {
   "cell_type": "code",
   "execution_count": 9,
   "id": "fb4cb2a1-0710-4445-9a51-2475af90627b",
   "metadata": {
    "execution": {
     "iopub.execute_input": "2025-02-26T17:20:25.224058Z",
     "iopub.status.busy": "2025-02-26T17:20:25.222873Z",
     "iopub.status.idle": "2025-02-26T17:20:25.255362Z",
     "shell.execute_reply": "2025-02-26T17:20:25.254556Z",
     "shell.execute_reply.started": "2025-02-26T17:20:25.224006Z"
    },
    "tags": []
   },
   "outputs": [
    {
     "data": {
      "text/plain": [
       "1"
      ]
     },
     "execution_count": 9,
     "metadata": {},
     "output_type": "execute_result"
    }
   ],
   "source": [
    "my_lr_scheduler.get_last_lr()[0]"
   ]
  },
  {
   "cell_type": "code",
   "execution_count": null,
   "id": "35409aad-d137-4ac5-b848-0f2f3391c68d",
   "metadata": {},
   "outputs": [],
   "source": []
  }
 ],
 "metadata": {
  "kernelspec": {
   "display_name": "DataSphere Kernel",
   "language": "python",
   "name": "python3"
  },
  "language_info": {
   "codemirror_mode": {
    "name": "ipython",
    "version": 3
   },
   "file_extension": ".py",
   "mimetype": "text/x-python",
   "name": "python",
   "nbconvert_exporter": "python",
   "pygments_lexer": "ipython3",
   "version": "3.10.12"
  }
 },
 "nbformat": 4,
 "nbformat_minor": 5
}
