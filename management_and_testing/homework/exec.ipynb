{
 "cells": [
  {
   "cell_type": "code",
   "execution_count": 1,
   "id": "1c941246-ef08-4000-b839-e162bb30d81a",
   "metadata": {
    "execution": {
     "iopub.execute_input": "2025-02-26T12:39:24.348871Z",
     "iopub.status.busy": "2025-02-26T12:39:24.347994Z",
     "iopub.status.idle": "2025-02-26T12:39:24.501847Z",
     "shell.execute_reply": "2025-02-26T12:39:24.500886Z",
     "shell.execute_reply.started": "2025-02-26T12:39:24.348826Z"
    },
    "tags": []
   },
   "outputs": [],
   "source": [
    "%load_ext autoreload\n",
    "%autoreload 2"
   ]
  },
  {
   "cell_type": "code",
   "execution_count": 2,
   "id": "61783fd1-bdea-435b-917d-0a22e115cf76",
   "metadata": {
    "execution": {
     "iopub.execute_input": "2025-02-26T12:39:24.555436Z",
     "iopub.status.busy": "2025-02-26T12:39:24.554167Z",
     "iopub.status.idle": "2025-02-26T12:39:31.641116Z",
     "shell.execute_reply": "2025-02-26T12:39:31.640233Z",
     "shell.execute_reply.started": "2025-02-26T12:39:24.555375Z"
    },
    "tags": []
   },
   "outputs": [],
   "source": [
    "import pandas as pd\n",
    "\n",
    "import torch\n",
    "import torch.nn\n"
   ]
  },
  {
   "cell_type": "markdown",
   "id": "76ebf299-c20e-4a60-9496-2a78ede97a3e",
   "metadata": {},
   "source": [
    "# Пайплайн локально"
   ]
  },
  {
   "cell_type": "markdown",
   "id": "e1a7cfd0-b994-4af4-aa9c-eabbf2d97a11",
   "metadata": {},
   "source": [
    "## Diffusion.py"
   ]
  },
  {
   "cell_type": "code",
   "execution_count": 10,
   "id": "78e2409b-977e-46b2-b7d0-cba81db6d8c9",
   "metadata": {
    "execution": {
     "iopub.execute_input": "2025-02-24T19:10:08.853903Z",
     "iopub.status.busy": "2025-02-24T19:10:08.852920Z",
     "iopub.status.idle": "2025-02-24T19:10:08.894855Z",
     "shell.execute_reply": "2025-02-24T19:10:08.894061Z",
     "shell.execute_reply.started": "2025-02-24T19:10:08.853871Z"
    },
    "tags": []
   },
   "outputs": [],
   "source": [
    "from typing import Dict, Tuple\n",
    "\n",
    "import torch\n",
    "import torch.nn as nn\n",
    "\n",
    "\n",
    "class DiffusionModel(nn.Module):\n",
    "    def __init__(\n",
    "        self,\n",
    "        eps_model: nn.Module,\n",
    "        betas: Tuple[float, float],\n",
    "        num_timesteps: int,\n",
    "    ):\n",
    "        super().__init__()\n",
    "        self.eps_model = eps_model\n",
    "\n",
    "        for name, schedule in get_schedules(betas[0], betas[1], num_timesteps).items():\n",
    "            self.register_buffer(name, schedule)\n",
    "        self.num_timesteps = num_timesteps\n",
    "        self.criterion = nn.MSELoss()\n",
    "\n",
    "    def forward(self, x: torch.Tensor) -> torch.Tensor:\n",
    "        timestep = torch.randint(1, self.num_timesteps + 1, (x.shape[0],), device='cuda' if torch.cuda.is_available() else 'cpu')\n",
    "        eps = torch.rand_like(x)\n",
    "\n",
    "        x_t = (\n",
    "            self.sqrt_alphas_cumprod[timestep, None, None, None] * x\n",
    "            + self.one_minus_alpha_over_prod[timestep, None, None, None] * eps\n",
    "        )\n",
    "\n",
    "        return self.criterion(eps, self.eps_model(x_t, timestep / self.num_timesteps))\n",
    "\n",
    "    def sample(self, num_samples: int, size, device) -> torch.Tensor:\n",
    "\n",
    "        x_i = torch.randn(num_samples, *size)\n",
    "\n",
    "        for i in range(self.num_timesteps, 0, -1):\n",
    "            z = torch.randn(num_samples, *size) if i > 1 else 0\n",
    "            eps = self.eps_model(x_i, torch.tensor(i / self.num_timesteps).repeat(num_samples, 1).to(device))\n",
    "            x_i = self.inv_sqrt_alphas[i] * (x_i - eps * self.one_minus_alpha_over_prod[i]) + self.sqrt_betas[i] * z\n",
    "\n",
    "        return x_i\n",
    "\n",
    "\n",
    "def get_schedules(beta1: float, beta2: float, num_timesteps: int) -> Dict[str, torch.Tensor]:\n",
    "    assert beta1 < beta2 < 1.0, \"beta1 and beta2 must be in (0, 1)\"\n",
    "\n",
    "    betas = (beta2 - beta1) * torch.arange(0, num_timesteps + 1, dtype=torch.float32) / num_timesteps + beta1\n",
    "    sqrt_betas = torch.sqrt(betas)\n",
    "    alphas = 1 - betas\n",
    "\n",
    "    alphas_cumprod = torch.cumprod(alphas, dim=0)\n",
    "\n",
    "    sqrt_alphas_cumprod = torch.sqrt(alphas_cumprod)\n",
    "    inv_sqrt_alphas = 1 / torch.sqrt(alphas)\n",
    "\n",
    "    sqrt_one_minus_alpha_prod = torch.sqrt(1 - alphas_cumprod)\n",
    "    one_minus_alpha_over_prod = (1 - alphas) / sqrt_one_minus_alpha_prod\n",
    "\n",
    "    return {\n",
    "        \"alphas\": alphas,\n",
    "        \"inv_sqrt_alphas\": inv_sqrt_alphas,\n",
    "        \"sqrt_betas\": sqrt_betas,\n",
    "        \"alphas_cumprod\": alphas_cumprod,\n",
    "        \"sqrt_alphas_cumprod\": sqrt_alphas_cumprod,\n",
    "        \"sqrt_one_minus_alpha_prod\": sqrt_one_minus_alpha_prod,\n",
    "        \"one_minus_alpha_over_prod\": one_minus_alpha_over_prod,\n",
    "    }\n"
   ]
  },
  {
   "cell_type": "markdown",
   "id": "bc057510-2c18-429a-b6a3-f8521b414c0b",
   "metadata": {},
   "source": [
    "## training.py"
   ]
  },
  {
   "cell_type": "code",
   "execution_count": 11,
   "id": "00a9cb9a-9b02-43cd-8654-cd20ccc3d671",
   "metadata": {
    "execution": {
     "iopub.execute_input": "2025-02-24T19:10:09.199605Z",
     "iopub.status.busy": "2025-02-24T19:10:09.199Z",
     "iopub.status.idle": "2025-02-24T19:10:14.470985Z",
     "shell.execute_reply": "2025-02-24T19:10:14.470276Z",
     "shell.execute_reply.started": "2025-02-24T19:10:09.199565Z"
    },
    "tags": []
   },
   "outputs": [],
   "source": [
    "import torch\n",
    "from torch.optim.optimizer import Optimizer\n",
    "from torch.utils.data import DataLoader\n",
    "from torchvision.utils import make_grid, save_image\n",
    "from tqdm import tqdm\n",
    "\n",
    "from modeling.diffusion import DiffusionModel\n",
    "\n",
    "\n",
    "def train_step(model: DiffusionModel, inputs: torch.Tensor, optimizer: Optimizer, device: str):\n",
    "    optimizer.zero_grad()\n",
    "    inputs = inputs.to(device)\n",
    "    loss = model(inputs)\n",
    "    loss.backward()\n",
    "    optimizer.step()\n",
    "    return loss\n",
    "\n",
    "\n",
    "def train_epoch(model: DiffusionModel, dataloader: DataLoader, optimizer: Optimizer, device: str):\n",
    "    model.train()\n",
    "    pbar = tqdm(dataloader)\n",
    "    loss_ema = None\n",
    "    for x, _ in pbar:\n",
    "        train_loss = train_step(model, x, optimizer, device)\n",
    "        loss_ema = train_loss if loss_ema is None else 0.9 * loss_ema + 0.1 * train_loss\n",
    "        pbar.set_description(f\"loss: {loss_ema:.4f}\")\n",
    "\n",
    "\n",
    "def generate_samples(model: DiffusionModel, device: str, path: str):\n",
    "    model.eval()\n",
    "    with torch.no_grad():\n",
    "        samples = model.sample(8, (3, 32, 32), device=device)\n",
    "        grid = make_grid(samples, nrow=4)\n",
    "        save_image(grid, path)\n"
   ]
  },
  {
   "cell_type": "markdown",
   "id": "8f53a17c-2d83-4ce5-a73d-125680bbdc7a",
   "metadata": {},
   "source": [
    "## Unet.py"
   ]
  },
  {
   "cell_type": "code",
   "execution_count": 19,
   "id": "afd042ff-6955-405b-85c2-591d967797f3",
   "metadata": {
    "execution": {
     "iopub.execute_input": "2025-02-24T19:21:02.955176Z",
     "iopub.status.busy": "2025-02-24T19:21:02.954057Z",
     "iopub.status.idle": "2025-02-24T19:21:03.404899Z",
     "shell.execute_reply": "2025-02-24T19:21:03.404187Z",
     "shell.execute_reply.started": "2025-02-24T19:21:02.955132Z"
    },
    "tags": []
   },
   "outputs": [],
   "source": [
    "import torch\n",
    "import torch.nn as nn\n",
    "\n",
    "\n",
    "class ConvBlock(nn.Module):\n",
    "    def __init__(self, in_channels: int, out_channels: int, residual: bool = False):\n",
    "        super().__init__()\n",
    "        self.main = nn.Sequential(\n",
    "            nn.Conv2d(in_channels, out_channels, 3, 1, 1),\n",
    "            nn.GroupNorm(8, out_channels),\n",
    "            nn.ReLU(),\n",
    "        )\n",
    "        self.conv = nn.Sequential(\n",
    "            nn.Conv2d(out_channels, out_channels, 3, 1, 1),\n",
    "            nn.GroupNorm(8, out_channels),\n",
    "            nn.ReLU(),\n",
    "            nn.Conv2d(out_channels, out_channels, 3, 1, 1),\n",
    "            nn.GroupNorm(8, out_channels),\n",
    "            nn.ReLU(),\n",
    "        )\n",
    "\n",
    "        self.is_res = residual\n",
    "\n",
    "    def forward(self, x: torch.Tensor) -> torch.Tensor:\n",
    "        x = self.main(x)\n",
    "        if self.is_res:\n",
    "            x = x + self.conv(x)\n",
    "            return x / 1.414\n",
    "        else:\n",
    "            return self.conv(x)\n",
    "\n",
    "\n",
    "class DownBlock(nn.Module):\n",
    "    def __init__(self, in_channels: int, out_channels: int):\n",
    "        super().__init__()\n",
    "        self.layers = nn.Sequential(ConvBlock(in_channels, out_channels), nn.MaxPool2d(2))\n",
    "\n",
    "    def forward(self, x: torch.Tensor) -> torch.Tensor:\n",
    "        return self.layers(x)\n",
    "\n",
    "\n",
    "class UpBlock(nn.Module):\n",
    "    def __init__(self, in_channels: int, out_channels: int):\n",
    "        super().__init__()\n",
    "        self.layers = nn.Sequential(\n",
    "            nn.ConvTranspose2d(in_channels, out_channels, 2, 2),\n",
    "            ConvBlock(out_channels, out_channels),\n",
    "            ConvBlock(out_channels, out_channels),\n",
    "        )\n",
    "\n",
    "    def forward(self, x: torch.Tensor, skip: torch.Tensor) -> torch.Tensor:\n",
    "        x = torch.cat((x, skip), 1)\n",
    "        x = self.layers(x)\n",
    "\n",
    "        return x\n",
    "\n",
    "\n",
    "class TimestepEmbedding(nn.Module):\n",
    "    def __init__(self, emb_dim: int):\n",
    "        super().__init__()\n",
    "\n",
    "        self.lin1 = nn.Linear(1, emb_dim, bias=False)\n",
    "        self.lin2 = nn.Linear(emb_dim, emb_dim)\n",
    "\n",
    "    def forward(self, x: torch.Tensor) -> torch.Tensor:\n",
    "        x = x.view(-1, 1)\n",
    "        x = torch.sin(self.lin1(x))\n",
    "        x = self.lin2(x)\n",
    "        return x\n",
    "\n",
    "\n",
    "class UnetModel(nn.Module):\n",
    "    def __init__(self, in_channels: int, out_channels: int, hidden_size: int = 256):\n",
    "        super().__init__()\n",
    "        self.in_channels = in_channels\n",
    "        self.out_channels = out_channels\n",
    "\n",
    "        self.hidden_size = hidden_size\n",
    "\n",
    "        self.init_conv = ConvBlock(in_channels, hidden_size, residual=True)\n",
    "        \n",
    "        self.down1 = DownBlock(hidden_size, hidden_size)\n",
    "        self.down2 = DownBlock(hidden_size, 2 * hidden_size)\n",
    "        self.down3 = DownBlock(2 * hidden_size, 2 * hidden_size)\n",
    "\n",
    "        self.to_vec = nn.Sequential(nn.AvgPool2d(4), nn.ReLU())\n",
    "\n",
    "        self.timestep_embedding = TimestepEmbedding(2 * hidden_size)\n",
    "\n",
    "        self.up0 = nn.Sequential(\n",
    "            nn.ConvTranspose2d(2 * hidden_size, 2 * hidden_size, 4, 4),\n",
    "            nn.GroupNorm(8, 2 * hidden_size),\n",
    "            nn.ReLU(),\n",
    "        )\n",
    "\n",
    "        self.up1 = UpBlock(4 * hidden_size, 2 * hidden_size)\n",
    "        self.up2 = UpBlock(4 * hidden_size, hidden_size)\n",
    "        self.up3 = UpBlock(2 * hidden_size, hidden_size)\n",
    "        self.out = nn.Conv2d(2 * hidden_size, self.out_channels, 3, 1, 1)\n",
    "\n",
    "    def forward(self, x: torch.Tensor, t: torch.Tensor) -> torch.Tensor:\n",
    "        print(x.shape, 'shape before anything')\n",
    "        x = self.init_conv(x)\n",
    "        print(x.shape, 'shape before down')\n",
    "        down1 = self.down1(x)\n",
    "        print(down1.shape, 'shape after down1')\n",
    "        down2 = self.down2(down1)\n",
    "        repeat = down2.shape[2]\n",
    "        print(down2.shape, 'shape after down2')\n",
    "        down3 = self.down3(down2)\n",
    "        print(down3.shape, 'shape after down3')\n",
    "        \n",
    "        thro = self.to_vec(down3)\n",
    "        print(thro.shape, 'shape after vectorizing')\n",
    "        \n",
    "        temb = torch.unsqueeze(torch.unsqueeze(self.timestep_embedding(t), 2), 3)\n",
    "        thro = self.up0(thro + temb)\n",
    "        print(thro.shape, 'shape after up0')\n",
    "        up1 = self.up1(thro, down3) + temb.repeat(1, 1, repeat, 1)\n",
    "        print(up1.shape, 'shape after up1')\n",
    "        up2 = self.up2(up1, down2)\n",
    "        print(up2.shape, 'shape after up2')\n",
    "        up3 = self.up3(up2, down1)\n",
    "        print(up3.shape, 'shape after up3')\n",
    "        out = self.out(torch.cat((up3, x), 1))\n",
    "        print(out.shape, 'shape out')\n",
    "        return out\n"
   ]
  },
  {
   "cell_type": "markdown",
   "id": "ff6db770-7fe2-41c6-ae65-f0689e1f0d5b",
   "metadata": {},
   "source": [
    "## Полный запуск"
   ]
  },
  {
   "cell_type": "code",
   "execution_count": 2,
   "id": "5079c8a3-8c57-4cb4-90a2-8f417774010b",
   "metadata": {
    "execution": {
     "iopub.execute_input": "2025-02-27T19:26:03.453742Z",
     "iopub.status.busy": "2025-02-27T19:26:03.452513Z",
     "iopub.status.idle": "2025-02-27T19:26:03.481891Z",
     "shell.execute_reply": "2025-02-27T19:26:03.480775Z",
     "shell.execute_reply.started": "2025-02-27T19:26:03.453686Z"
    },
    "tags": []
   },
   "outputs": [
    {
     "ename": "NameError",
     "evalue": "name 'DiffusionModel' is not defined",
     "output_type": "error",
     "traceback": [
      "\u001b[0;31m---------------------------------------------------------------------------\u001b[0m",
      "\u001b[0;31mNameError\u001b[0m                                 Traceback (most recent call last)",
      "\u001b[0;32m/tmp/ipykernel_5683/1853021762.py\u001b[0m in \u001b[0;36m<cell line: 2>\u001b[0;34m()\u001b[0m\n\u001b[1;32m      1\u001b[0m \u001b[0mdevice\u001b[0m \u001b[0;34m=\u001b[0m \u001b[0;34m'cuda'\u001b[0m\u001b[0;34m\u001b[0m\u001b[0;34m\u001b[0m\u001b[0m\n\u001b[0;32m----> 2\u001b[0;31m ddpm = DiffusionModel(\n\u001b[0m\u001b[1;32m      3\u001b[0m     \u001b[0meps_model\u001b[0m\u001b[0;34m=\u001b[0m\u001b[0mUnetModel\u001b[0m\u001b[0;34m(\u001b[0m\u001b[0;36m3\u001b[0m\u001b[0;34m,\u001b[0m \u001b[0;36m3\u001b[0m\u001b[0;34m,\u001b[0m \u001b[0mhidden_size\u001b[0m\u001b[0;34m=\u001b[0m\u001b[0;36m128\u001b[0m\u001b[0;34m)\u001b[0m\u001b[0;34m,\u001b[0m\u001b[0;34m\u001b[0m\u001b[0;34m\u001b[0m\u001b[0m\n\u001b[1;32m      4\u001b[0m     \u001b[0mbetas\u001b[0m\u001b[0;34m=\u001b[0m\u001b[0;34m(\u001b[0m\u001b[0;36m1e-4\u001b[0m\u001b[0;34m,\u001b[0m \u001b[0;36m0.02\u001b[0m\u001b[0;34m)\u001b[0m\u001b[0;34m,\u001b[0m\u001b[0;34m\u001b[0m\u001b[0;34m\u001b[0m\u001b[0m\n\u001b[1;32m      5\u001b[0m     \u001b[0mnum_timesteps\u001b[0m\u001b[0;34m=\u001b[0m\u001b[0;36m1000\u001b[0m\u001b[0;34m,\u001b[0m\u001b[0;34m\u001b[0m\u001b[0;34m\u001b[0m\u001b[0m\n",
      "\u001b[0;31mNameError\u001b[0m: name 'DiffusionModel' is not defined"
     ]
    }
   ],
   "source": [
    "device = 'cuda'\n",
    "ddpm = DiffusionModel(\n",
    "    eps_model=UnetModel(3, 3, hidden_size=128),\n",
    "    betas=(1e-4, 0.02),\n",
    "    num_timesteps=1000,\n",
    ")\n",
    "\n",
    "ddpm.to(device)\n",
    "print('hui')\n",
    "# train_transforms = transforms.Compose(\n",
    "#     [transforms.ToTensor(), transforms.Normalize((0.5, 0.5, 0.5), (0.5, 0.5, 0.5))]\n",
    "# )\n",
    "\n",
    "# dataset = CIFAR10(\n",
    "#     \"cifar10\",\n",
    "#     train=True,\n",
    "#     download=True,\n",
    "#     transform=train_transforms,\n",
    "# )\n",
    "\n",
    "# dataloader = DataLoader(dataset, batch_size=128, num_workers=4, shuffle=True)\n",
    "# optim = torch.optim.Adam(ddpm.parameters(), lr=1e-5)\n",
    "\n",
    "# for i in range(num_epochs):\n",
    "#     train_epoch(ddpm, dataloader, optim, device)\n",
    "#     generate_samples(ddpm, device, f\"samples/{i:02d}.png\")\n"
   ]
  },
  {
   "cell_type": "code",
   "execution_count": null,
   "id": "2a4056b7-11bd-467e-9e19-09ff6ff02105",
   "metadata": {
    "execution": {
     "iopub.execute_input": "2025-02-27T19:26:05.354757Z",
     "iopub.status.busy": "2025-02-27T19:26:05.353843Z"
    },
    "tags": []
   },
   "outputs": [],
   "source": [
    "!python3 main.py"
   ]
  },
  {
   "cell_type": "code",
   "execution_count": 17,
   "id": "6a8af432-55c9-4d55-83ee-622ebdbc39fa",
   "metadata": {
    "execution": {
     "iopub.execute_input": "2025-02-26T19:56:16.693315Z",
     "iopub.status.busy": "2025-02-26T19:56:16.692286Z",
     "iopub.status.idle": "2025-02-26T20:00:13.254149Z",
     "shell.execute_reply": "2025-02-26T20:00:13.253500Z",
     "shell.execute_reply.started": "2025-02-26T19:56:16.693276Z"
    },
    "tags": []
   },
   "outputs": [
    {
     "name": "stdout",
     "output_type": "stream",
     "text": [
      "============================= test session starts ==============================\n",
      "platform linux -- Python 3.10.12, pytest-8.2.2, pluggy-1.5.0\n",
      "rootdir: /home/jupyter/datasphere/shad/efficient-dl-systems/week02_management_and_testing/homework\n",
      "plugins: typeguard-2.13.3, jaxtyping-0.2.28, dash-2.18.2, cov-6.0.0, hydra-core-1.3.2, anyio-3.7.1, dvc-2.58.2\n",
      "collected 4 items\n",
      "\n",
      "tests/test_pipeline.py ....                                              [100%]\n",
      "\n",
      "---------- coverage: platform linux, python 3.10.12-final-0 ----------\n",
      "Name                   Stmts   Miss  Cover\n",
      "------------------------------------------\n",
      "modeling/training.py      35      4    89%\n",
      "------------------------------------------\n",
      "TOTAL                     35      4    89%\n",
      "\n",
      "\n",
      "======================== 4 passed in 233.67s (0:03:53) =========================\n"
     ]
    }
   ],
   "source": [
    "# УРАРРАРАРАРАРРАРАРАРАРАР\n",
    "!pytest --cov modeling.training tests/test_pipeline.py"
   ]
  },
  {
   "cell_type": "code",
   "execution_count": null,
   "id": "3c25497c-0b31-4c94-bde0-d9dbf0d515b2",
   "metadata": {},
   "outputs": [],
   "source": []
  }
 ],
 "metadata": {
  "kernelspec": {
   "display_name": "DataSphere Kernel",
   "language": "python",
   "name": "python3"
  },
  "language_info": {
   "codemirror_mode": {
    "name": "ipython",
    "version": 3
   },
   "file_extension": ".py",
   "mimetype": "text/x-python",
   "name": "python",
   "nbconvert_exporter": "python",
   "pygments_lexer": "ipython3",
   "version": "3.10.12"
  }
 },
 "nbformat": 4,
 "nbformat_minor": 5
}
